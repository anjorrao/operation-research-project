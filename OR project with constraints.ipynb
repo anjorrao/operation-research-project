{
 "cells": [
  {
   "cell_type": "markdown",
   "metadata": {
    "id": "96-OeLBXtzXw"
   },
   "source": [
    "# Importing tools"
   ]
  },
  {
   "cell_type": "code",
   "execution_count": 1,
   "metadata": {
    "id": "7Vxeqxk6tzXz"
   },
   "outputs": [],
   "source": [
    "# pip install ortools\n",
    "# pip install networkx\n",
    "import networkx as nx\n",
    "import time"
   ]
  },
  {
   "cell_type": "markdown",
   "metadata": {
    "id": "CP8d6qKHtzX0"
   },
   "source": [
    "# Importing libraries"
   ]
  },
  {
   "cell_type": "code",
   "execution_count": 2,
   "metadata": {
    "id": "b_HZgY7ZtzX1"
   },
   "outputs": [],
   "source": [
    "from ortools.constraint_solver import routing_enums_pb2\n",
    "from ortools.constraint_solver import pywrapcp\n",
    "import numpy as np"
   ]
  },
  {
   "cell_type": "markdown",
   "metadata": {
    "id": "uqqghn-CtzX1"
   },
   "source": [
    "# Plotting the graph"
   ]
  },
  {
   "cell_type": "code",
   "execution_count": 3,
   "metadata": {
    "id": "3QkryCfWtzX1"
   },
   "outputs": [],
   "source": [
    "def plot_graph(graph):\n",
    "    g = nx.Graph()\n",
    "    A = np.array(graph)\n",
    "    g = nx.from_numpy_matrix(A, create_using=nx.Graph)\n",
    "\n",
    "    pos = nx.spring_layout(g)\n",
    "    labels = nx.get_edge_attributes(g,'weight')\n",
    "    nx.draw(g, pos, edge_labels=labels, with_labels=True)"
   ]
  },
  {
   "cell_type": "markdown",
   "metadata": {
    "id": "WtxOlmoNtzX2"
   },
   "source": [
    "# Creating data models"
   ]
  },
  {
   "cell_type": "code",
   "execution_count": 4,
   "metadata": {
    "id": "eXWUH0u2tzX3"
   },
   "outputs": [],
   "source": [
    "# creating the data model for distance matrix\n",
    "def create_data_model():\n",
    "    \"\"\"Stores the data for the problem.\"\"\"\n",
    "    data = {}\n",
    "    data['distance_matrix'] = [\n",
    "        [\n",
    "            0, 84, 72, 72, 56, 75, 9, 11, 14, 4, 8, 12, 10, 6\n",
    "        ],\n",
    "        [\n",
    "            84, 0, 132, 157, 141, 148, 75, 99, 110, 79, 84, 89, 87, 85\n",
    "        ],\n",
    "        [\n",
    "            72, 132, 0, 69, 79, 126, 66, 77, 74, 87, 123, 88, 80, 100\n",
    "        ],\n",
    "        [\n",
    "            72, 157, 69, 0, 20, 70, 92, 76, 67, 71, 67, 64, 63, 67\n",
    "        ],\n",
    "        [\n",
    "            56, 141, 79, 20, 0, 53, 60, 61, 47, 55, 51, 48, 51, 51\n",
    "        ],\n",
    "        [\n",
    "            75, 148, 126, 70, 53, 0, 80, 60, 79, 66, 68, 67, 60, 62\n",
    "        ],\n",
    "        [\n",
    "            9, 75, 66, 92, 60, 80, 0, 18, 18, 5, 10, 14, 13, 11\n",
    "        ],\n",
    "        [\n",
    "            11, 99, 77, 76, 61, 60, 18, 0, 12, 12, 10, 14, 11,7\n",
    "        ],\n",
    "        [\n",
    "            14, 110, 74, 67, 47, 79, 18, 12, 0, 14, 10, 14, 8, 9\n",
    "        ],\n",
    "        [\n",
    "            4, 79, 87, 71, 55, 66, 5, 12, 14, 0, 5, 8, 8, 7\n",
    "        ],\n",
    "        [\n",
    "            8, 84, 123, 67, 51, 68, 10, 10, 10, 5, 0, 5, 4, 3\n",
    "        ],\n",
    "        [\n",
    "            12, 89, 88, 64, 48, 67, 14, 14, 14, 8, 5, 0, 5, 7\n",
    "        ],\n",
    "        [\n",
    "            10, 87, 80, 63, 47, 60, 13, 11, 8, 8, 4, 5, 0, 4\n",
    "        ],\n",
    "        [\n",
    "            6, 85, 100, 67, 51, 62, 11, 7, 9, 7, 3, 7, 4, 0\n",
    "        ],\n",
    "    ]\n",
    "    data['demands'] = [0, 8, 11, 5, 6, 7, 9, 4, 14, 2, 1, 3, 10, 20]\n",
    "    data['vehicle_capacities'] = [25, 25, 25, 25]\n",
    "    data['num_vehicles'] = 4\n",
    "    data['depot'] = 0\n",
    "    return data"
   ]
  },
  {
   "cell_type": "markdown",
   "metadata": {
    "id": "mzZHptdStzX4"
   },
   "source": [
    "# Printing the solution"
   ]
  },
  {
   "cell_type": "code",
   "execution_count": 5,
   "metadata": {
    "id": "NKwM9fnvtzX4"
   },
   "outputs": [],
   "source": [
    "def print_solution(data, manager, routing, solution):\n",
    "    \"\"\"Prints solution on console.\"\"\"\n",
    "    print(f'Objective: {solution.ObjectiveValue()}')\n",
    "    # Display dropped nodes.\n",
    "    dropped_nodes = 'Dropped nodes:'\n",
    "    for node in range(routing.Size()):\n",
    "        if routing.IsStart(node) or routing.IsEnd(node):\n",
    "            continue\n",
    "        if solution.Value(routing.NextVar(node)) == node:\n",
    "            dropped_nodes += ' {}'.format(manager.IndexToNode(node))\n",
    "    print(dropped_nodes)\n",
    "    \n",
    "    total_distance = 0\n",
    "    total_load = 0\n",
    "    max_route_distance = 0\n",
    "    \n",
    "    for vehicle_id in range(data['num_vehicles']):\n",
    "        index = routing.Start(vehicle_id)\n",
    "        plan_output = 'Route for vehicle {}:\\n'.format(vehicle_id)\n",
    "        route_distance = 0\n",
    "        route_load = 0\n",
    "        while not routing.IsEnd(index):\n",
    "            node_index = manager.IndexToNode(index)\n",
    "            route_load += data['demands'][node_index]\n",
    "            plan_output += ' {0} Load({1}) -> '.format(node_index, route_load)\n",
    "            previous_index = index\n",
    "            index = solution.Value(routing.NextVar(index))\n",
    "            route_distance += routing.GetArcCostForVehicle(\n",
    "                previous_index, index, vehicle_id)\n",
    "        plan_output += ' {0} Load({1})\\n'.format(manager.IndexToNode(index),\n",
    "                                                 route_load)\n",
    "        plan_output += 'Distance of the route: {}m\\n'.format(route_distance)\n",
    "        plan_output += 'Load of the route: {}\\n'.format(route_load)\n",
    "        print(plan_output)\n",
    "        total_distance += route_distance\n",
    "        total_load += route_load\n",
    "    print('Total distance of all routes: {}m'.format(total_distance))\n",
    "    print('Total load of all routes: {}'.format(total_load))\n",
    "    max_route_distance = max(route_distance, max_route_distance)\n",
    "#     print('Maximum of the route distances: {}m'.format(max_route_distance))"
   ]
  },
  {
   "cell_type": "markdown",
   "metadata": {
    "id": "iJrf-41otzX5"
   },
   "source": [
    "# Main function"
   ]
  },
  {
   "cell_type": "code",
   "execution_count": 6,
   "metadata": {
    "id": "Qsmu4NgNtzX5",
    "outputId": "eb7b0488-cb6a-4230-ec63-cbf8af8af7df"
   },
   "outputs": [
    {
     "name": "stdout",
     "output_type": "stream",
     "text": [
      "Objective: 18255\n",
      "Dropped nodes: 1\n",
      "Route for vehicle 0:\n",
      " 0 Load(0) ->  3 Load(5) ->  13 Load(25) ->  0 Load(25)\n",
      "Distance of the route: 145m\n",
      "Load of the route: 25\n",
      "\n",
      "Route for vehicle 1:\n",
      " 0 Load(0) ->  12 Load(10) ->  5 Load(17) ->  7 Load(21) ->  0 Load(21)\n",
      "Distance of the route: 141m\n",
      "Load of the route: 21\n",
      "\n",
      "Route for vehicle 2:\n",
      " 0 Load(0) ->  2 Load(11) ->  6 Load(20) ->  9 Load(22) ->  0 Load(22)\n",
      "Distance of the route: 147m\n",
      "Load of the route: 22\n",
      "\n",
      "Route for vehicle 3:\n",
      " 0 Load(0) ->  8 Load(14) ->  4 Load(20) ->  11 Load(23) ->  10 Load(24) ->  0 Load(24)\n",
      "Distance of the route: 122m\n",
      "Load of the route: 24\n",
      "\n",
      "Total distance of all routes: 555m\n",
      "Total load of all routes: 92\n",
      "---------------\n",
      "Total time taken :: 0.05358767509460449 seconds\n"
     ]
    }
   ],
   "source": [
    "def main():\n",
    "    \"\"\"Entry point of the program.\"\"\"\n",
    "    # Instantiate the data problem.\n",
    "    data = create_data_model()\n",
    "\n",
    "    # Create the routing index manager.\n",
    "    manager = pywrapcp.RoutingIndexManager(len(data['distance_matrix']),\n",
    "                                           data['num_vehicles'], data['depot'])\n",
    "\n",
    "    # Create Routing Model.\n",
    "    routing = pywrapcp.RoutingModel(manager)\n",
    "\n",
    "\n",
    "    # Create and register a transit callback.\n",
    "    def distance_callback(from_index, to_index):\n",
    "        \"\"\"Returns the distance between the two nodes.\"\"\"\n",
    "        # Convert from routing variable Index to distance matrix NodeIndex.\n",
    "        from_node = manager.IndexToNode(from_index)\n",
    "        to_node = manager.IndexToNode(to_index)\n",
    "        return data['distance_matrix'][from_node][to_node]\n",
    "\n",
    "    transit_callback_index = routing.RegisterTransitCallback(distance_callback)\n",
    "\n",
    "    # Define cost of each arc.\n",
    "    routing.SetArcCostEvaluatorOfAllVehicles(transit_callback_index)\n",
    "\n",
    "    # Add Distance constraint.\n",
    "    dimension_name = 'Distance'\n",
    "    routing.AddDimension(\n",
    "        transit_callback_index,\n",
    "        0,  # no slack\n",
    "        150,  # vehicle maximum travel distance\n",
    "        True,  # start cumul to zero\n",
    "        dimension_name)\n",
    "    distance_dimension = routing.GetDimensionOrDie(dimension_name)\n",
    "    distance_dimension.SetGlobalSpanCostCoefficient(100)\n",
    "    \n",
    "    # Add Capacity constraint.\n",
    "    def demand_callback(from_index):\n",
    "        \"\"\"Returns the demand of the node.\"\"\"\n",
    "        # Convert from routing variable Index to demands NodeIndex.\n",
    "        from_node = manager.IndexToNode(from_index)\n",
    "        return data['demands'][from_node]\n",
    "\n",
    "    demand_callback_index = routing.RegisterUnaryTransitCallback(\n",
    "        demand_callback)\n",
    "    routing.AddDimensionWithVehicleCapacity(\n",
    "        demand_callback_index,\n",
    "        0,  # null capacity slack\n",
    "        data['vehicle_capacities'],  # vehicle maximum capacities\n",
    "        True,  # start cumul to zero\n",
    "        'Capacity')\n",
    "    # Allow to drop nodes.\n",
    "    penalty = 3000\n",
    "    for node in range(1, len(data['distance_matrix'])):\n",
    "        routing.AddDisjunction([manager.NodeToIndex(node)], penalty)\n",
    "\n",
    "    # Setting first solution heuristic.\n",
    "    search_parameters = pywrapcp.DefaultRoutingSearchParameters()\n",
    "    search_parameters.first_solution_strategy = (\n",
    "        routing_enums_pb2.FirstSolutionStrategy.SAVINGS)\n",
    "    search_parameters.local_search_metaheuristic = (\n",
    "        routing_enums_pb2.LocalSearchMetaheuristic.AUTOMATIC)\n",
    "    search_parameters.time_limit.FromSeconds(1)\n",
    "\n",
    "    # Solve the problem.\n",
    "    solution = routing.SolveWithParameters(search_parameters)\n",
    "\n",
    "    # Print solution on console.\n",
    "    if solution:\n",
    "        print_solution(data, manager, routing, solution)\n",
    "    else:\n",
    "        print('No solution found !')\n",
    "\n",
    "\n",
    "if __name__ == '__main__':\n",
    "    start_time = time.time()\n",
    "    main()\n",
    "    print(\"---------------\")\n",
    "    print(\"Total time taken :: %s seconds\" % (time.time() - start_time))"
   ]
  }
 ],
 "metadata": {
  "colab": {
   "name": "OR project with constraints.ipynb",
   "provenance": []
  },
  "kernelspec": {
   "display_name": "Python 3 (ipykernel)",
   "language": "python",
   "name": "python3"
  },
  "language_info": {
   "codemirror_mode": {
    "name": "ipython",
    "version": 3
   },
   "file_extension": ".py",
   "mimetype": "text/x-python",
   "name": "python",
   "nbconvert_exporter": "python",
   "pygments_lexer": "ipython3",
   "version": "3.9.7"
  }
 },
 "nbformat": 4,
 "nbformat_minor": 1
}
